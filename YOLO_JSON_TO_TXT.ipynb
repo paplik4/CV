{
 "cells": [
  {
   "cell_type": "code",
   "execution_count": null,
   "id": "92614168",
   "metadata": {},
   "outputs": [],
   "source": [
    "import json\n",
    "\n",
    "with open('/Users/dkAndHus/Desktop/barcode_data/bar_code/barcode_generator/data/labels/1eb11e12-dfbd-4fdc-979b-5427154bde6f.json', 'r') as f:\n",
    "    json_data = json.load(f)\n",
    "\n",
    "output_list = []\n",
    "for entry in json_data:\n",
    "    width = entry['width']\n",
    "    height = entry['height']\n",
    "    center_x, center_y = entry['bbox']['center']\n",
    "    output_str = f\"0 {center_x} {center_y} {width} {height}\"\n",
    "    output_list.append(output_str)\n",
    "\n",
    "output_text = '\\n'.join(output_list)\n",
    "\n",
    "\n",
    "# with open('/Users/dkAndHus/Desktop/barcode_data/bar_code/barcode_generator/data/labels/'+ filename, 'w') as f:\n",
    "#     f.write(output_text)"
   ]
  },
  {
   "cell_type": "code",
   "execution_count": 111,
   "id": "245a7688",
   "metadata": {},
   "outputs": [
    {
     "data": {
      "text/plain": [
       "'0 612.0 388.0 64 92\\n0 502.0 566.0 84 90\\n0 47.0 516.0 60 98\\n0 692.5 480.5 99 71\\n0 485.5 41.5 81 79\\n0 557.0 546.0 76 72\\n0 721.5 81.5 97 105\\n0 644.5 136.0 101 110\\n0 392.5 554.5 91 101\\n0 470.0 146.0 92 54\\n0 200.0 207.5 88 67\\n0 585.5 205.5 97 73\\n0 127.0 181.5 108 111\\n0 419.0 607.0 94 54\\n0 283.5 82.5 93 63\\n0 88.0 711.5 86 41\\n0 146.5 745.0 69 62\\n0 694.5 450.5 93 95'"
      ]
     },
     "execution_count": 111,
     "metadata": {},
     "output_type": "execute_result"
    }
   ],
   "source": [
    "output_textz§"
   ]
  },
  {
   "cell_type": "code",
   "execution_count": null,
   "id": "54e15d64",
   "metadata": {},
   "outputs": [],
   "source": [
    "import json\n",
    "\n",
    "with open('/Users/dkAndHus/Desktop/barcode_data/bar_code/barcode_generator/data/labels/1eb11e12-dfbd-4fdc-979b-5427154bde6f.json', 'r') as f:\n",
    "    json_data = json.load(f)\n",
    "\n",
    "output_list = []\n",
    "for entry in json_data:\n",
    "    width = entry['width']\n",
    "    height = entry['height']\n",
    "    center_x, center_y = entry['bbox']['center']\n",
    "    entry['yolo'] = f\"0 {center_x} {center_y} {width} {height}\"\n",
    "    output_list.append(entry)\n",
    "\n",
    "\n",
    "json.dump(output_list,open('/Users/dkAndHus/Desktop/barcode_data/bar_code/barcode_generator/data/labels/'+ filename, 'w') )\n",
    "\n",
    "# with open('/Users/dkAndHus/Desktop/barcode_data/bar_code/barcode_generator/data/labels/'+ filename, 'w') as f:\n",
    "#     f.write(output_text)"
   ]
  },
  {
   "cell_type": "code",
   "execution_count": 103,
   "id": "9b879f6d",
   "metadata": {},
   "outputs": [
    {
     "name": "stdout",
     "output_type": "stream",
     "text": [
      "[{'width': 64, 'height': 92, 'rotation': -67, 'bbox': {'corners': [[580, 342], [580, 434], [644, 434], [644, 342]], 'center': [612.0, 388.0], 'width': 64, 'height': 92, 'rotation': 0, 'xmin': 580, 'ymin': 342, 'xmax': 644, 'ymax': 434}, 'corners': {'corners': [[609, 342], [580, 354], [613, 433], [643, 420]], 'center': [623.0, 358.0], 'width': 63, 'height': 91, 'rotation': -67, 'xmin': 580, 'ymin': 342, 'xmax': 643, 'ymax': 433}, 'yolo': '0 612.0 388.0 64 92'}, {'width': 84, 'height': 90, 'rotation': -129, 'bbox': {'corners': [[460, 521], [460, 611], [544, 611], [544, 521]], 'center': [502.0, 566.0], 'width': 84, 'height': 90, 'rotation': 0, 'xmin': 460, 'ymin': 521, 'xmax': 544, 'ymax': 611}, 'corners': {'corners': [[542, 543], [514, 521], [460, 587], [487, 610]], 'center': [503.0, 539.0], 'width': 82, 'height': 89, 'rotation': -129, 'xmin': 460, 'ymin': 521, 'xmax': 542, 'ymax': 610}, 'yolo': '0 502.0 566.0 84 90'}, {'width': 60, 'height': 98, 'rotation': 99, 'bbox': {'corners': [[17, 467], [17, 565], [77, 565], [77, 467]], 'center': [47.0, 516.0], 'width': 60, 'height': 98, 'rotation': 0, 'xmin': 17, 'ymin': 467, 'xmax': 77, 'ymax': 565}, 'corners': {'corners': [[30, 563], [76, 555], [62, 467], [17, 474]], 'center': [62.0, 490.0], 'width': 59, 'height': 96, 'rotation': 99, 'xmin': 17, 'ymin': 467, 'xmax': 76, 'ymax': 563}, 'yolo': '0 47.0 516.0 60 98'}, {'width': 99, 'height': 71, 'rotation': 0, 'bbox': {'corners': [[643, 445], [643, 516], [742, 516], [742, 445]], 'center': [692.5, 480.5], 'width': 99, 'height': 71, 'rotation': 0, 'xmin': 643, 'ymin': 445, 'xmax': 742, 'ymax': 516}, 'corners': {'corners': [[643, 445], [643, 516], [742, 516], [742, 445]], 'center': [692.5, 480.5], 'width': 99, 'height': 71, 'rotation': 0, 'xmin': 643, 'ymin': 445, 'xmax': 742, 'ymax': 516}, 'yolo': '0 692.5 480.5 99 71'}, {'width': 81, 'height': 79, 'rotation': 107, 'bbox': {'corners': [[445, 2], [445, 81], [526, 81], [526, 2]], 'center': [485.5, 41.5], 'width': 81, 'height': 79, 'rotation': 0, 'xmin': 445, 'ymin': 2, 'xmax': 526, 'ymax': 81}, 'corners': {'corners': [[462, 79], [524, 60], [506, 2], [445, 20]], 'center': [475.5, 34.5], 'width': 79, 'height': 77, 'rotation': 107, 'xmin': 445, 'ymin': 2, 'xmax': 524, 'ymax': 79}, 'yolo': '0 485.5 41.5 81 79'}, {'width': 76, 'height': 72, 'rotation': -147, 'bbox': {'corners': [[519, 510], [519, 582], [595, 582], [595, 510]], 'center': [557.0, 546.0], 'width': 76, 'height': 72, 'rotation': 0, 'xmin': 519, 'ymin': 510, 'xmax': 595, 'ymax': 582}, 'corners': {'corners': [[594, 548], [569, 510], [519, 542], [543, 581]], 'center': [549.0, 533.0], 'width': 75, 'height': 71, 'rotation': -147, 'xmin': 519, 'ymin': 510, 'xmax': 594, 'ymax': 581}, 'yolo': '0 557.0 546.0 76 72'}, {'width': 97, 'height': 105, 'rotation': 59, 'bbox': {'corners': [[673, 29], [673, 134], [770, 134], [770, 29]], 'center': [721.5, 81.5], 'width': 97, 'height': 105, 'rotation': 0, 'xmin': 673, 'ymin': 29, 'xmax': 770, 'ymax': 134}, 'corners': {'corners': [[673, 99], [726, 132], [769, 61], [715, 29]], 'center': [714.5, 60.5], 'width': 96, 'height': 103, 'rotation': 59, 'xmin': 673, 'ymin': 29, 'xmax': 769, 'ymax': 132}, 'yolo': '0 721.5 81.5 97 105'}, {'width': 101, 'height': 110, 'rotation': -58, 'bbox': {'corners': [[594, 81], [594, 191], [695, 191], [695, 81]], 'center': [644.5, 136.0], 'width': 101, 'height': 110, 'rotation': 0, 'xmin': 594, 'ymin': 81, 'xmax': 695, 'ymax': 191}, 'corners': {'corners': [[646, 81], [594, 113], [640, 189], [693, 156]], 'center': [638.5, 112.0], 'width': 99, 'height': 108, 'rotation': -58, 'xmin': 594, 'ymin': 81, 'xmax': 693, 'ymax': 189}, 'yolo': '0 644.5 136.0 101 110'}, {'width': 91, 'height': 101, 'rotation': -126, 'bbox': {'corners': [[347, 504], [347, 605], [438, 605], [438, 504]], 'center': [392.5, 554.5], 'width': 91, 'height': 101, 'rotation': 0, 'xmin': 347, 'ymin': 504, 'xmax': 438, 'ymax': 605}, 'corners': {'corners': [[437, 532], [397, 504], [347, 574], [386, 603]], 'center': [390.5, 528.5], 'width': 90, 'height': 99, 'rotation': -126, 'xmin': 347, 'ymin': 504, 'xmax': 437, 'ymax': 603}, 'yolo': '0 392.5 554.5 91 101'}, {'width': 92, 'height': 54, 'rotation': 0, 'bbox': {'corners': [[424, 119], [424, 173], [516, 173], [516, 119]], 'center': [470.0, 146.0], 'width': 92, 'height': 54, 'rotation': 0, 'xmin': 424, 'ymin': 119, 'xmax': 516, 'ymax': 173}, 'corners': {'corners': [[424, 119], [424, 173], [516, 173], [516, 119]], 'center': [470.0, 146.0], 'width': 92, 'height': 54, 'rotation': 0, 'xmin': 424, 'ymin': 119, 'xmax': 516, 'ymax': 173}, 'yolo': '0 470.0 146.0 92 54'}, {'width': 88, 'height': 67, 'rotation': 0, 'bbox': {'corners': [[156, 174], [156, 241], [244, 241], [244, 174]], 'center': [200.0, 207.5], 'width': 88, 'height': 67, 'rotation': 0, 'xmin': 156, 'ymin': 174, 'xmax': 244, 'ymax': 241}, 'corners': {'corners': [[156, 174], [156, 241], [244, 241], [244, 174]], 'center': [200.0, 207.5], 'width': 88, 'height': 67, 'rotation': 0, 'xmin': 156, 'ymin': 174, 'xmax': 244, 'ymax': 241}, 'yolo': '0 200.0 207.5 88 67'}, {'width': 97, 'height': 73, 'rotation': 0, 'bbox': {'corners': [[537, 169], [537, 242], [634, 242], [634, 169]], 'center': [585.5, 205.5], 'width': 97, 'height': 73, 'rotation': 0, 'xmin': 537, 'ymin': 169, 'xmax': 634, 'ymax': 242}, 'corners': {'corners': [[537, 169], [537, 242], [634, 242], [634, 169]], 'center': [585.5, 205.5], 'width': 97, 'height': 73, 'rotation': 0, 'xmin': 537, 'ymin': 169, 'xmax': 634, 'ymax': 242}, 'yolo': '0 585.5 205.5 97 73'}, {'width': 108, 'height': 111, 'rotation': 64, 'bbox': {'corners': [[73, 126], [73, 237], [181, 237], [181, 126]], 'center': [127.0, 181.5], 'width': 108, 'height': 111, 'rotation': 0, 'xmin': 73, 'ymin': 126, 'xmax': 181, 'ymax': 237}, 'corners': {'corners': [[73, 201], [143, 236], [180, 160], [109, 126]], 'center': [115.0, 165.5], 'width': 107, 'height': 110, 'rotation': 64, 'xmin': 73, 'ymin': 126, 'xmax': 180, 'ymax': 236}, 'yolo': '0 127.0 181.5 108 111'}, {'width': 94, 'height': 54, 'rotation': 0, 'bbox': {'corners': [[372, 580], [372, 634], [466, 634], [466, 580]], 'center': [419.0, 607.0], 'width': 94, 'height': 54, 'rotation': 0, 'xmin': 372, 'ymin': 580, 'xmax': 466, 'ymax': 634}, 'corners': {'corners': [[372, 580], [372, 634], [466, 634], [466, 580]], 'center': [419.0, 607.0], 'width': 94, 'height': 54, 'rotation': 0, 'xmin': 372, 'ymin': 580, 'xmax': 466, 'ymax': 634}, 'yolo': '0 419.0 607.0 94 54'}, {'width': 93, 'height': 63, 'rotation': 0, 'bbox': {'corners': [[237, 51], [237, 114], [330, 114], [330, 51]], 'center': [283.5, 82.5], 'width': 93, 'height': 63, 'rotation': 0, 'xmin': 237, 'ymin': 51, 'xmax': 330, 'ymax': 114}, 'corners': {'corners': [[237, 51], [237, 114], [330, 114], [330, 51]], 'center': [283.5, 82.5], 'width': 93, 'height': 63, 'rotation': 0, 'xmin': 237, 'ymin': 51, 'xmax': 330, 'ymax': 114}, 'yolo': '0 283.5 82.5 93 63'}, {'width': 86, 'height': 41, 'rotation': 0, 'bbox': {'corners': [[45, 691], [45, 732], [131, 732], [131, 691]], 'center': [88.0, 711.5], 'width': 86, 'height': 41, 'rotation': 0, 'xmin': 45, 'ymin': 691, 'xmax': 131, 'ymax': 732}, 'corners': {'corners': [[45, 691], [45, 732], [131, 732], [131, 691]], 'center': [88.0, 711.5], 'width': 86, 'height': 41, 'rotation': 0, 'xmin': 45, 'ymin': 691, 'xmax': 131, 'ymax': 732}, 'yolo': '0 88.0 711.5 86 41'}, {'width': 69, 'height': 62, 'rotation': 10, 'bbox': {'corners': [[112, 714], [112, 776], [181, 776], [181, 714]], 'center': [146.5, 745.0], 'width': 69, 'height': 62, 'rotation': 0, 'xmin': 112, 'ymin': 714, 'xmax': 181, 'ymax': 776}, 'corners': {'corners': [[112, 724], [120, 775], [179, 764], [170, 714]], 'center': [141.5, 740.0], 'width': 67, 'height': 61, 'rotation': 10, 'xmin': 112, 'ymin': 714, 'xmax': 179, 'ymax': 775}, 'yolo': '0 146.5 745.0 69 62'}, {'width': 93, 'height': 95, 'rotation': -143, 'bbox': {'corners': [[648, 403], [648, 498], [741, 498], [741, 403]], 'center': [694.5, 450.5], 'width': 93, 'height': 95, 'rotation': 0, 'xmin': 648, 'ymin': 403, 'xmax': 741, 'ymax': 498}, 'corners': {'corners': [[739, 459], [696, 403], [648, 439], [690, 496]], 'center': [678.5, 438.5], 'width': 91, 'height': 93, 'rotation': -143, 'xmin': 648, 'ymin': 403, 'xmax': 739, 'ymax': 496}, 'yolo': '0 694.5 450.5 93 95'}]\n"
     ]
    }
   ],
   "source": [
    "print(output_list)"
   ]
  },
  {
   "cell_type": "code",
   "execution_count": 100,
   "id": "3b0cffb2",
   "metadata": {},
   "outputs": [
    {
     "ename": "TypeError",
     "evalue": "string indices must be integers",
     "output_type": "error",
     "traceback": [
      "\u001b[0;31m---------------------------------------------------------------------------\u001b[0m",
      "\u001b[0;31mTypeError\u001b[0m                                 Traceback (most recent call last)",
      "\u001b[0;32m/var/folders/ck/qnb2k9yn3r7cbvdps79x30sh0000gp/T/ipykernel_3371/1069548621.py\u001b[0m in \u001b[0;36m<module>\u001b[0;34m\u001b[0m\n\u001b[1;32m     20\u001b[0m         \u001b[0moutput_list\u001b[0m \u001b[0;34m=\u001b[0m \u001b[0;34m[\u001b[0m\u001b[0;34m]\u001b[0m\u001b[0;34m\u001b[0m\u001b[0;34m\u001b[0m\u001b[0m\n\u001b[1;32m     21\u001b[0m         \u001b[0;32mfor\u001b[0m \u001b[0mentry\u001b[0m \u001b[0;32min\u001b[0m \u001b[0mjson_data\u001b[0m\u001b[0;34m:\u001b[0m\u001b[0;34m\u001b[0m\u001b[0;34m\u001b[0m\u001b[0m\n\u001b[0;32m---> 22\u001b[0;31m             \u001b[0mwidth\u001b[0m \u001b[0;34m=\u001b[0m \u001b[0mentry\u001b[0m\u001b[0;34m[\u001b[0m\u001b[0;34m'width'\u001b[0m\u001b[0;34m]\u001b[0m\u001b[0;34m\u001b[0m\u001b[0;34m\u001b[0m\u001b[0m\n\u001b[0m\u001b[1;32m     23\u001b[0m             \u001b[0mheight\u001b[0m \u001b[0;34m=\u001b[0m \u001b[0mentry\u001b[0m\u001b[0;34m[\u001b[0m\u001b[0;34m'height'\u001b[0m\u001b[0;34m]\u001b[0m\u001b[0;34m\u001b[0m\u001b[0;34m\u001b[0m\u001b[0m\n\u001b[1;32m     24\u001b[0m             \u001b[0mcenter_x\u001b[0m\u001b[0;34m,\u001b[0m \u001b[0mcenter_y\u001b[0m \u001b[0;34m=\u001b[0m \u001b[0mentry\u001b[0m\u001b[0;34m[\u001b[0m\u001b[0;34m'bbox'\u001b[0m\u001b[0;34m]\u001b[0m\u001b[0;34m[\u001b[0m\u001b[0;34m'center'\u001b[0m\u001b[0;34m]\u001b[0m\u001b[0;34m\u001b[0m\u001b[0;34m\u001b[0m\u001b[0m\n",
      "\u001b[0;31mTypeError\u001b[0m: string indices must be integers"
     ]
    }
   ],
   "source": [
    "import json\n",
    "import os\n",
    "\n",
    "# Set the path to the folder containing the JSON files\n",
    "input_folder = '/Users/dkAndHus/Desktop/barcode_data/bar_code/barcode_generator/data/labels/'\n",
    "\n",
    "# Loop through each file in the folder\n",
    "for filename in os.listdir(input_folder):\n",
    "    if filename.endswith('.json'):\n",
    "        # Read the input JSON file\n",
    "        json_data = json.load(open(os.path.join(input_folder, filename), 'r'))\n",
    "#         with open(os.path.join(input_folder, filename), 'r') as f:\n",
    "#             # Read each line of the file separately and decode it using json.loads()\n",
    "#             json_data = []\n",
    "#             for line in f:\n",
    "#                 obj = json.loads(line)\n",
    "#                 json_data.append(obj)\n",
    "\n",
    "        # Transform the data and create the output string\n",
    "        output_list = []\n",
    "        for entry in json_data:\n",
    "            width = entry['width']\n",
    "            height = entry['height']\n",
    "            center_x, center_y = entry['bbox']['center']\n",
    "            output_str = f\"0 {center_x} {center_y} {width} {height}\"\n",
    "            output_list.append(output_str)\n",
    "\n",
    "        output_text = '\\n'.join(output_list)\n",
    "\n",
    "        # Write the output string to a new file with the same name as the input file\n",
    "        output_filename = os.path.splitext(filename)[0] + '_output.txt'\n",
    "        with open(os.path.join(input_folder), 'w') as f:\n",
    "            f.write(output_text)"
   ]
  },
  {
   "cell_type": "code",
   "execution_count": 99,
   "id": "2aab524f",
   "metadata": {},
   "outputs": [
    {
     "data": {
      "text/plain": [
       "['0 612.0 388.0 64 92',\n",
       " '0 502.0 566.0 84 90',\n",
       " '0 47.0 516.0 60 98',\n",
       " '0 692.5 480.5 99 71',\n",
       " '0 485.5 41.5 81 79',\n",
       " '0 557.0 546.0 76 72',\n",
       " '0 721.5 81.5 97 105',\n",
       " '0 644.5 136.0 101 110',\n",
       " '0 392.5 554.5 91 101',\n",
       " '0 470.0 146.0 92 54',\n",
       " '0 200.0 207.5 88 67',\n",
       " '0 585.5 205.5 97 73',\n",
       " '0 127.0 181.5 108 111',\n",
       " '0 419.0 607.0 94 54',\n",
       " '0 283.5 82.5 93 63',\n",
       " '0 88.0 711.5 86 41',\n",
       " '0 146.5 745.0 69 62',\n",
       " '0 694.5 450.5 93 95']"
      ]
     },
     "execution_count": 99,
     "metadata": {},
     "output_type": "execute_result"
    }
   ],
   "source": [
    "json_data"
   ]
  },
  {
   "cell_type": "code",
   "execution_count": 90,
   "id": "ffa911b3",
   "metadata": {},
   "outputs": [
    {
     "name": "stdout",
     "output_type": "stream",
     "text": [
      "0 612.0 388.0 64 92\n",
      "0 502.0 566.0 84 90\n",
      "0 47.0 516.0 60 98\n",
      "0 692.5 480.5 99 71\n",
      "0 485.5 41.5 81 79\n",
      "0 557.0 546.0 76 72\n",
      "0 721.5 81.5 97 105\n",
      "0 644.5 136.0 101 110\n",
      "0 392.5 554.5 91 101\n",
      "0 470.0 146.0 92 54\n",
      "0 200.0 207.5 88 67\n",
      "0 585.5 205.5 97 73\n",
      "0 127.0 181.5 108 111\n",
      "0 419.0 607.0 94 54\n",
      "0 283.5 82.5 93 63\n",
      "0 88.0 711.5 86 41\n",
      "0 146.5 745.0 69 62\n",
      "0 694.5 450.5 93 95\n"
     ]
    }
   ],
   "source": [
    "print(output_text)"
   ]
  },
  {
   "cell_type": "code",
   "execution_count": 83,
   "id": "2fd87d2d",
   "metadata": {},
   "outputs": [
    {
     "ename": "JSONDecodeError",
     "evalue": "Extra data: line 1 column 3 (char 2)",
     "output_type": "error",
     "traceback": [
      "\u001b[0;31m---------------------------------------------------------------------------\u001b[0m",
      "\u001b[0;31mJSONDecodeError\u001b[0m                           Traceback (most recent call last)",
      "\u001b[0;32m/var/folders/ck/qnb2k9yn3r7cbvdps79x30sh0000gp/T/ipykernel_3371/1759624301.py\u001b[0m in \u001b[0;36m<module>\u001b[0;34m\u001b[0m\n\u001b[1;32m     10\u001b[0m         \u001b[0;31m# Read the input JSON file\u001b[0m\u001b[0;34m\u001b[0m\u001b[0;34m\u001b[0m\u001b[0m\n\u001b[1;32m     11\u001b[0m         \u001b[0;32mwith\u001b[0m \u001b[0mopen\u001b[0m\u001b[0;34m(\u001b[0m\u001b[0mos\u001b[0m\u001b[0;34m.\u001b[0m\u001b[0mpath\u001b[0m\u001b[0;34m.\u001b[0m\u001b[0mjoin\u001b[0m\u001b[0;34m(\u001b[0m\u001b[0minput_folder\u001b[0m\u001b[0;34m,\u001b[0m \u001b[0mfilename\u001b[0m\u001b[0;34m)\u001b[0m\u001b[0;34m,\u001b[0m \u001b[0;34m'r'\u001b[0m\u001b[0;34m)\u001b[0m \u001b[0;32mas\u001b[0m \u001b[0mf\u001b[0m\u001b[0;34m:\u001b[0m\u001b[0;34m\u001b[0m\u001b[0;34m\u001b[0m\u001b[0m\n\u001b[0;32m---> 12\u001b[0;31m             \u001b[0mjson_data\u001b[0m \u001b[0;34m=\u001b[0m \u001b[0mjson\u001b[0m\u001b[0;34m.\u001b[0m\u001b[0mload\u001b[0m\u001b[0;34m(\u001b[0m\u001b[0mf\u001b[0m\u001b[0;34m)\u001b[0m\u001b[0;34m\u001b[0m\u001b[0;34m\u001b[0m\u001b[0m\n\u001b[0m\u001b[1;32m     13\u001b[0m \u001b[0;34m\u001b[0m\u001b[0m\n\u001b[1;32m     14\u001b[0m \u001b[0mfilename\u001b[0m\u001b[0;34m\u001b[0m\u001b[0;34m\u001b[0m\u001b[0m\n",
      "\u001b[0;32m~/opt/anaconda3/lib/python3.9/json/__init__.py\u001b[0m in \u001b[0;36mload\u001b[0;34m(fp, cls, object_hook, parse_float, parse_int, parse_constant, object_pairs_hook, **kw)\u001b[0m\n\u001b[1;32m    291\u001b[0m     \u001b[0mkwarg\u001b[0m\u001b[0;34m;\u001b[0m \u001b[0motherwise\u001b[0m\u001b[0;31m \u001b[0m\u001b[0;31m`\u001b[0m\u001b[0;31m`\u001b[0m\u001b[0mJSONDecoder\u001b[0m\u001b[0;31m`\u001b[0m\u001b[0;31m`\u001b[0m \u001b[0;32mis\u001b[0m \u001b[0mused\u001b[0m\u001b[0;34m.\u001b[0m\u001b[0;34m\u001b[0m\u001b[0;34m\u001b[0m\u001b[0m\n\u001b[1;32m    292\u001b[0m     \"\"\"\n\u001b[0;32m--> 293\u001b[0;31m     return loads(fp.read(),\n\u001b[0m\u001b[1;32m    294\u001b[0m         \u001b[0mcls\u001b[0m\u001b[0;34m=\u001b[0m\u001b[0mcls\u001b[0m\u001b[0;34m,\u001b[0m \u001b[0mobject_hook\u001b[0m\u001b[0;34m=\u001b[0m\u001b[0mobject_hook\u001b[0m\u001b[0;34m,\u001b[0m\u001b[0;34m\u001b[0m\u001b[0;34m\u001b[0m\u001b[0m\n\u001b[1;32m    295\u001b[0m         \u001b[0mparse_float\u001b[0m\u001b[0;34m=\u001b[0m\u001b[0mparse_float\u001b[0m\u001b[0;34m,\u001b[0m \u001b[0mparse_int\u001b[0m\u001b[0;34m=\u001b[0m\u001b[0mparse_int\u001b[0m\u001b[0;34m,\u001b[0m\u001b[0;34m\u001b[0m\u001b[0;34m\u001b[0m\u001b[0m\n",
      "\u001b[0;32m~/opt/anaconda3/lib/python3.9/json/__init__.py\u001b[0m in \u001b[0;36mloads\u001b[0;34m(s, cls, object_hook, parse_float, parse_int, parse_constant, object_pairs_hook, **kw)\u001b[0m\n\u001b[1;32m    344\u001b[0m             \u001b[0mparse_int\u001b[0m \u001b[0;32mis\u001b[0m \u001b[0;32mNone\u001b[0m \u001b[0;32mand\u001b[0m \u001b[0mparse_float\u001b[0m \u001b[0;32mis\u001b[0m \u001b[0;32mNone\u001b[0m \u001b[0;32mand\u001b[0m\u001b[0;34m\u001b[0m\u001b[0;34m\u001b[0m\u001b[0m\n\u001b[1;32m    345\u001b[0m             parse_constant is None and object_pairs_hook is None and not kw):\n\u001b[0;32m--> 346\u001b[0;31m         \u001b[0;32mreturn\u001b[0m \u001b[0m_default_decoder\u001b[0m\u001b[0;34m.\u001b[0m\u001b[0mdecode\u001b[0m\u001b[0;34m(\u001b[0m\u001b[0ms\u001b[0m\u001b[0;34m)\u001b[0m\u001b[0;34m\u001b[0m\u001b[0;34m\u001b[0m\u001b[0m\n\u001b[0m\u001b[1;32m    347\u001b[0m     \u001b[0;32mif\u001b[0m \u001b[0mcls\u001b[0m \u001b[0;32mis\u001b[0m \u001b[0;32mNone\u001b[0m\u001b[0;34m:\u001b[0m\u001b[0;34m\u001b[0m\u001b[0;34m\u001b[0m\u001b[0m\n\u001b[1;32m    348\u001b[0m         \u001b[0mcls\u001b[0m \u001b[0;34m=\u001b[0m \u001b[0mJSONDecoder\u001b[0m\u001b[0;34m\u001b[0m\u001b[0;34m\u001b[0m\u001b[0m\n",
      "\u001b[0;32m~/opt/anaconda3/lib/python3.9/json/decoder.py\u001b[0m in \u001b[0;36mdecode\u001b[0;34m(self, s, _w)\u001b[0m\n\u001b[1;32m    338\u001b[0m         \u001b[0mend\u001b[0m \u001b[0;34m=\u001b[0m \u001b[0m_w\u001b[0m\u001b[0;34m(\u001b[0m\u001b[0ms\u001b[0m\u001b[0;34m,\u001b[0m \u001b[0mend\u001b[0m\u001b[0;34m)\u001b[0m\u001b[0;34m.\u001b[0m\u001b[0mend\u001b[0m\u001b[0;34m(\u001b[0m\u001b[0;34m)\u001b[0m\u001b[0;34m\u001b[0m\u001b[0;34m\u001b[0m\u001b[0m\n\u001b[1;32m    339\u001b[0m         \u001b[0;32mif\u001b[0m \u001b[0mend\u001b[0m \u001b[0;34m!=\u001b[0m \u001b[0mlen\u001b[0m\u001b[0;34m(\u001b[0m\u001b[0ms\u001b[0m\u001b[0;34m)\u001b[0m\u001b[0;34m:\u001b[0m\u001b[0;34m\u001b[0m\u001b[0;34m\u001b[0m\u001b[0m\n\u001b[0;32m--> 340\u001b[0;31m             \u001b[0;32mraise\u001b[0m \u001b[0mJSONDecodeError\u001b[0m\u001b[0;34m(\u001b[0m\u001b[0;34m\"Extra data\"\u001b[0m\u001b[0;34m,\u001b[0m \u001b[0ms\u001b[0m\u001b[0;34m,\u001b[0m \u001b[0mend\u001b[0m\u001b[0;34m)\u001b[0m\u001b[0;34m\u001b[0m\u001b[0;34m\u001b[0m\u001b[0m\n\u001b[0m\u001b[1;32m    341\u001b[0m         \u001b[0;32mreturn\u001b[0m \u001b[0mobj\u001b[0m\u001b[0;34m\u001b[0m\u001b[0;34m\u001b[0m\u001b[0m\n\u001b[1;32m    342\u001b[0m \u001b[0;34m\u001b[0m\u001b[0m\n",
      "\u001b[0;31mJSONDecodeError\u001b[0m: Extra data: line 1 column 3 (char 2)"
     ]
    }
   ],
   "source": [
    "import json\n",
    "import os\n",
    "\n",
    "# Set the path to the folder containing the JSON files\n",
    "input_folder = '/Users/dkAndHus/Desktop/barcode_data/bar_code/barcode_generator/data/labels/'\n",
    "\n",
    "# Loop through each file in the folder\n",
    "for filename in os.listdir(input_folder):\n",
    "    if filename.endswith('.json'):\n",
    "        # Read the input JSON file\n",
    "        with open(os.path.join(input_folder, filename), 'r') as f:\n",
    "            json_data = json.load(f)\n",
    "\n",
    "filename"
   ]
  },
  {
   "cell_type": "code",
   "execution_count": null,
   "id": "0d7251cf",
   "metadata": {},
   "outputs": [],
   "source": []
  },
  {
   "cell_type": "code",
   "execution_count": null,
   "id": "e5f4c8b3",
   "metadata": {},
   "outputs": [],
   "source": []
  }
 ],
 "metadata": {
  "kernelspec": {
   "display_name": "Python 3 (ipykernel)",
   "language": "python",
   "name": "python3"
  },
  "language_info": {
   "codemirror_mode": {
    "name": "ipython",
    "version": 3
   },
   "file_extension": ".py",
   "mimetype": "text/x-python",
   "name": "python",
   "nbconvert_exporter": "python",
   "pygments_lexer": "ipython3",
   "version": "3.9.13"
  }
 },
 "nbformat": 4,
 "nbformat_minor": 5
}
