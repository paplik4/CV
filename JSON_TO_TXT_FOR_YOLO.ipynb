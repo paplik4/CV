{
 "cells": [
  {
   "cell_type": "code",
   "execution_count": 155,
   "id": "57729d5d",
   "metadata": {},
   "outputs": [],
   "source": [
    "import json\n",
    "import os\n",
    "from PIL import Image\n",
    "\n",
    "# Set the path to the folder containing the JSON files\n",
    "input_folder = '/Users/dkAndHus/Desktop/barcode_data/bar_code/barcode_generator/data/labels/'\n",
    "\n",
    "\n",
    "# Loop through each file in the folder\n",
    "for filename in os.listdir(input_folder):\n",
    "    if filename.endswith('.json'):\n",
    "        # Read the input JSON file\n",
    "        with open(os.path.join(input_folder, filename), 'r') as f:\n",
    "            json_data = json.load(f)\n",
    "\n",
    "        # Transform the data and create the output string\n",
    "        output_list = []\n",
    "        for entry in json_data:\n",
    "            width = entry['width']\n",
    "            height = entry['height']\n",
    "            center_x, center_y = entry['bbox']['center']\n",
    "            output_str = f\"0 {center_x/800} {center_y/800} {width/800} {height/800}\"\n",
    "            output_list.append(output_str)\n",
    "\n",
    "        output_text = '\\n'.join(output_list)\n",
    "\n",
    "        # Write the output string to a new file with the same name as the input file\n",
    "        output_filename = filename[:-5] + '.txt'\n",
    "        with open(os.path.join(input_folder, output_filename), 'w') as f:\n",
    "            f.write(output_text)"
   ]
  },
  {
   "cell_type": "code",
   "execution_count": null,
   "id": "6f2ad941",
   "metadata": {},
   "outputs": [],
   "source": []
  }
 ],
 "metadata": {
  "kernelspec": {
   "display_name": "Python 3 (ipykernel)",
   "language": "python",
   "name": "python3"
  },
  "language_info": {
   "codemirror_mode": {
    "name": "ipython",
    "version": 3
   },
   "file_extension": ".py",
   "mimetype": "text/x-python",
   "name": "python",
   "nbconvert_exporter": "python",
   "pygments_lexer": "ipython3",
   "version": "3.9.13"
  }
 },
 "nbformat": 4,
 "nbformat_minor": 5
}
