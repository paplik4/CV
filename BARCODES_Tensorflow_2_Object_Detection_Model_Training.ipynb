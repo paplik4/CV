{
  "nbformat": 4,
  "nbformat_minor": 0,
  "metadata": {
    "colab": {
      "provenance": []
    },
    "kernelspec": {
      "name": "python3",
      "display_name": "Python 3"
    },
    "accelerator": "GPU",
    "gpuClass": "standard"
  },
  "cells": [
    {
      "cell_type": "markdown",
      "source": [
        "# Tensorflow 2 Object Detection: Train model\n",
        "\n"
      ],
      "metadata": {
        "id": "GaTTQ6iSRVZx"
      }
    },
    {
      "cell_type": "markdown",
      "source": [
        "<table align=\"left\"><td>\n",
        "  <a target=\"_blank\"  href=\"https://colab.research.google.com/github/TannerGilbert/Tensorflow-Object-Detection-API-Train-Model/blob/master/Tensorflow_2_Object_Detection_Train_model.ipynb\">\n",
        "    <img src=\"https://www.tensorflow.org/images/colab_logo_32px.png\" />Run in Google Colab\n",
        "  </a>\n",
        "</td><td>\n",
        "  <a target=\"_blank\"  href=\"https://github.com/TannerGilbert/Tensorflow-Object-Detection-API-Train-Model/blob/master/Tensorflow_2_Object_Detection_Train_model.ipynb\">\n",
        "    <img width=32px src=\"https://www.tensorflow.org/images/GitHub-Mark-32px.png\" />View source on GitHub</a>\n",
        "</td></table>"
      ],
      "metadata": {
        "id": "IYfnqP0PVcW-"
      }
    },
    {
      "cell_type": "markdown",
      "source": [
        "## Installation\n",
        "\n",
        "Installing the Tensorflow Object Detection API became a lot easier with the relase of Tensorflow 2. The following few cells are all that is needed in order to install the OD API."
      ],
      "metadata": {
        "id": "KNT9cI_ZSCla"
      }
    },
    {
      "cell_type": "code",
      "execution_count": null,
      "source": [
        "# Install Tenserflow\n",
        "!pip install tensorflow==\"2.6.0\""
      ],
      "outputs": [],
      "metadata": {
        "id": "fTBYWlnKSD78"
      }
    },
    {
      "cell_type": "code",
      "execution_count": null,
      "source": [
        "import os\n",
        "import pathlib\n",
        "\n",
        "# Clone the tensorflow models repository if it doesn't already exist\n",
        "if \"models\" in pathlib.Path.cwd().parts:\n",
        "  while \"models\" in pathlib.Path.cwd().parts:\n",
        "    os.chdir('..')\n",
        "elif not pathlib.Path('models').exists():\n",
        "  !git clone --depth 1 https://github.com/tensorflow/models"
      ],
      "outputs": [],
      "metadata": {
        "id": "Kpha2-F_SGBj"
      }
    },
    {
      "cell_type": "code",
      "execution_count": null,
      "source": [
        "# Install the Object Detection API\n",
        "%%bash\n",
        "cd models/research/\n",
        "protoc object_detection/protos/*.proto --python_out=.\n",
        "cp object_detection/packages/tf2/setup.py .\n",
        "python -m pip install ."
      ],
      "outputs": [],
      "metadata": {
        "id": "rmr2UdV_SHuc"
      }
    },
    {
      "cell_type": "code",
      "execution_count": null,
      "source": [
        "#run model builder test, so we know that the library is installed correctly\n",
        "!python /content/models/research/object_detection/builders/model_builder_tf2_test.py"
      ],
      "outputs": [],
      "metadata": {
        "id": "XzXxTBXHSNqA"
      }
    },
    {
      "cell_type": "markdown",
      "source": [
        "## Prepare data"
      ],
      "metadata": {
        "id": "Iz1sd2reSTxg"
      }
    },
    {
      "cell_type": "code",
      "execution_count": null,
      "source": [
        "# Install Kaggle API\n",
        "# NOTE: This step may fail! If so, try continuing to the next block anyways - you should still be able to download from Kaggle\n",
        "!pip install -q kaggle\n",
        "!pip install -q kaggle-cli"
      ],
      "outputs": [],
      "metadata": {
        "id": "N8XSaOzhSX-n"
      }
    },
    {
      "cell_type": "code",
      "execution_count": null,
      "source": [
        "# improt the credetials\n",
        "import os\n",
        "os.environ['KAGGLE_USERNAME'] = \"andrejbi\" \n",
        "os.environ['KAGGLE_KEY'] = \"0131272aa5ce40991fb4eb011b98c561\""
      ],
      "outputs": [],
      "metadata": {
        "id": "SQqz-fsJbiQ0"
      }
    },
    {
      "cell_type": "code",
      "execution_count": null,
      "source": [
        "# download the dataset from Keggle \n",
        "!kaggle datasets download -d andrejbi/object-detection --unzip\n",
        "!ls"
      ],
      "outputs": [],
      "metadata": {
        "id": "cozgoQPEbo-k"
      }
    },
    {
      "cell_type": "markdown",
      "source": [
        "### Retrieve generate_tfrecord.py and labelmap\n",
        "There are multiple ways to do this, I have included the files needed within my Kaggle dataset, but you could also download them from Github, or even connect your Google Drive and retrieve them that way"
      ],
      "metadata": {
        "id": "YawyVBRvuTTE"
      }
    },
    {
      "cell_type": "code",
      "execution_count": null,
      "source": [
        "!python generate_tfrecord.py --csv_input=train_data.csv --image_dir=train --output_path=train.record\n",
        "!python generate_tfrecord.py --csv_input=test_data.csv --image_dir=test --output_path=test.record"
      ],
      "outputs": [],
      "metadata": {
        "id": "hs4KdOs7coyX"
      }
    },
    {
      "cell_type": "code",
      "execution_count": null,
      "source": [
        "train_record_path = 'train.record'\n",
        "test_record_path = 'test.record'\n",
        "labelmap_path = 'labelmap.pbtxt'"
      ],
      "outputs": [],
      "metadata": {
        "id": "Z_W_8L24c4Sk"
      }
    },
    {
      "cell_type": "markdown",
      "source": [
        "## Configuring training\n",
        "\n",
        "Now that the data is ready it's time to create a training configuration. The OD API supports lots of models, each with its own config file. In this notebook I'm making use of EfficientDet, but you can replace it with any model available in the [Tensorflow 2 Detection Model Zoo](https://github.com/tensorflow/models/blob/master/research/object_detection/g3doc/tf2_detection_zoo.md)."
      ],
      "metadata": {
        "id": "SK79i98YSY8a"
      }
    },
    {
      "cell_type": "code",
      "execution_count": null,
      "source": [
        "batch_size = 8\n",
        "num_steps = 8000\n",
        "num_eval_steps = 1000"
      ],
      "outputs": [],
      "metadata": {
        "id": "Axko9Jd0hEI3"
      }
    },
    {
      "cell_type": "code",
      "execution_count": null,
      "source": [
        "!wget http://download.tensorflow.org/models/object_detection/tf2/20200711/ssd_mobilenet_v2_fpnlite_320x320_coco17_tpu-8.tar.gz\n",
        "!tar -xf ssd_mobilenet_v2_fpnlite_320x320_coco17_tpu-8.tar.gz"
      ],
      "outputs": [],
      "metadata": {
        "id": "8RNI68K_dyzX"
      }
    },
    {
      "cell_type": "code",
      "execution_count": null,
      "source": [
        "fine_tune_checkpoint = 'ssd_mobilenet_v2_fpnlite_320x320_coco17_tpu-8/checkpoint/ckpt-0'"
      ],
      "outputs": [],
      "metadata": {
        "id": "HKENdH3TfhGb"
      }
    },
    {
      "cell_type": "code",
      "execution_count": null,
      "source": [
        "!wget https://raw.githubusercontent.com/tensorflow/models/master/research/object_detection/configs/tf2/ssd_mobilenet_v2_fpnlite_320x320_coco17_tpu-8.config\n",
        "\n",
        "base_config_path = 'ssd_mobilenet_v2_fpnlite_320x320_coco17_tpu-8.config'"
      ],
      "outputs": [],
      "metadata": {
        "id": "qzQ84qIQelJB"
      }
    },
    {
      "cell_type": "code",
      "execution_count": null,
      "source": [
        "# edit configuration file (from https://colab.research.google.com/drive/1sLqFKVV94wm-lglFq_0kGo2ciM0kecWD)\n",
        "\n",
        "import re\n",
        "\n",
        "with open(base_config_path) as f:\n",
        "    config = f.read()\n",
        "\n",
        "with open('model_config.config', 'w') as f:\n",
        "  \n",
        "  # Set labelmap path\n",
        "  config = re.sub('label_map_path: \".*?\"', \n",
        "             'label_map_path: \"{}\"'.format(labelmap_path), config)\n",
        "  \n",
        "  # Set fine_tune_checkpoint path\n",
        "  config = re.sub('fine_tune_checkpoint: \".*?\"',\n",
        "                  'fine_tune_checkpoint: \"{}\"'.format(fine_tune_checkpoint), config)\n",
        "  \n",
        "  # Set train tf-record file path\n",
        "  config = re.sub('(input_path: \".*?)(PATH_TO_BE_CONFIGURED/train)(.*?\")', \n",
        "                  'input_path: \"{}\"'.format(train_record_path), config)\n",
        "  \n",
        "  # Set test tf-record file path\n",
        "  config = re.sub('(input_path: \".*?)(PATH_TO_BE_CONFIGURED/val)(.*?\")', \n",
        "                  'input_path: \"{}\"'.format(test_record_path), config)\n",
        "  \n",
        "  # Set number of classes.\n",
        "  config = re.sub('num_classes: [0-9]+',\n",
        "                  'num_classes: {}'.format(4), config)\n",
        "  \n",
        "  # Set batch size\n",
        "  config = re.sub('batch_size: [0-9]+',\n",
        "                  'batch_size: {}'.format(batch_size), config)\n",
        "  \n",
        "  # Set training steps\n",
        "  config = re.sub('num_steps: [0-9]+',\n",
        "                  'num_steps: {}'.format(num_steps), config)\n",
        "  \n",
        "  # Set fine-tune checkpoint type to detection\n",
        "  config = re.sub('fine_tune_checkpoint_type: \"classification\"', \n",
        "             'fine_tune_checkpoint_type: \"{}\"'.format('detection'), config)\n",
        "  \n",
        "  f.write(config)"
      ],
      "outputs": [],
      "metadata": {
        "id": "m3ehVTRgesxS"
      }
    },
    {
      "cell_type": "code",
      "execution_count": null,
      "source": [
        "%cat model_config.config"
      ],
      "outputs": [],
      "metadata": {
        "id": "SmtrS5dihpS_"
      }
    },
    {
      "cell_type": "code",
      "execution_count": null,
      "source": [
        "model_dir = 'training/'\n",
        "pipeline_config_path = 'model_config.config'"
      ],
      "outputs": [],
      "metadata": {
        "id": "eRTBSsYthwxG"
      }
    },
    {
      "cell_type": "markdown",
      "source": [
        "## Train detector"
      ],
      "metadata": {
        "id": "Tv0sbQlciKWA"
      }
    },
    {
      "cell_type": "code",
      "execution_count": null,
      "source": [
        "# Run this block first and use the refresh arrow that will appear in the header once the training below starts\n",
        "%load_ext tensorboard\n",
        "%tensorboard --logdir 'training/train'"
      ],
      "outputs": [],
      "metadata": {
        "id": "PK8amcT_wgVb"
      }
    },
    {
      "cell_type": "code",
      "execution_count": null,
      "source": [
        "!python /content/models/research/object_detection/model_main_tf2.py \\\n",
        "    --pipeline_config_path={pipeline_config_path} \\\n",
        "    --model_dir={model_dir} \\\n",
        "    --alsologtostderr \\\n",
        "    --num_train_steps={num_steps} \\\n",
        "    --sample_1_of_n_eval_examples=1 \\\n",
        "    --num_eval_steps={num_eval_steps}"
      ],
      "outputs": [],
      "metadata": {
        "id": "t2zxx5AXiNNK"
      }
    },
    {
      "cell_type": "markdown",
      "source": [
        "## Export model inference graph"
      ],
      "metadata": {
        "id": "U3GNLS4ywstA"
      }
    },
    {
      "cell_type": "code",
      "execution_count": null,
      "source": [
        "output_directory = 'inference_graph'\n",
        "\n",
        "!python /content/models/research/object_detection/exporter_main_v2.py \\\n",
        "    --trained_checkpoint_dir {model_dir} \\\n",
        "    --output_directory {output_directory} \\\n",
        "    --pipeline_config_path {pipeline_config_path}"
      ],
      "outputs": [],
      "metadata": {
        "id": "WcvbNjcZw2er"
      }
    },
    {
      "cell_type": "markdown",
      "source": [
        "### Download model"
      ],
      "metadata": {
        "id": "HAH4TYj-_dgB"
      }
    },
    {
      "cell_type": "code",
      "execution_count": null,
      "source": [
        "# Zip and download your new model to your system\n",
        "from google.colab import files\n",
        "!zip -r new_model.zip /content/{output_directory}/saved_model\n",
        "files.download(f'new_model.zip')"
      ],
      "outputs": [],
      "metadata": {
        "id": "LcWVXuGAxeZ4"
      }
    },
    {
      "cell_type": "code",
      "source": [
        "# Optional: save a copy of the training data to your drive in case you want to re-train later\n",
        "from google.colab import drive\n",
        "drive.mount('/content/drive')\n",
        "!cp -r training/ drive/MyDrive/"
      ],
      "metadata": {
        "id": "nVqd20ja9ZBX"
      },
      "execution_count": null,
      "outputs": []
    },
    {
      "cell_type": "code",
      "source": [],
      "metadata": {
        "id": "OIewYLK7vp_h"
      },
      "execution_count": null,
      "outputs": []
    }
  ]
}